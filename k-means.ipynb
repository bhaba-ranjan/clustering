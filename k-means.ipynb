{
 "cells": [
  {
   "cell_type": "code",
   "execution_count": 1174,
   "metadata": {
    "collapsed": true,
    "pycharm": {
     "name": "#%%\n"
    }
   },
   "outputs": [],
   "source": [
    "import numpy as np\n",
    "import pandas as pd\n",
    "from sklearn.manifold import TSNE\n",
    "import matplotlib.pyplot as plt\n",
    "import cv2\n",
    "from sklearn.decomposition import PCA\n",
    "from sklearn.preprocessing import MinMaxScaler"
   ]
  },
  {
   "cell_type": "code",
   "execution_count": 1175,
   "outputs": [],
   "source": [
    "table = pd.read_csv('./train_data.txt', header=None)"
   ],
   "metadata": {
    "collapsed": false,
    "pycharm": {
     "name": "#%%\n"
    }
   }
  },
  {
   "cell_type": "code",
   "execution_count": 1176,
   "outputs": [
    {
     "data": {
      "text/plain": "(10740, 784)"
     },
     "execution_count": 1176,
     "metadata": {},
     "output_type": "execute_result"
    }
   ],
   "source": [
    "table.shape"
   ],
   "metadata": {
    "collapsed": false,
    "pycharm": {
     "name": "#%%\n"
    }
   }
  },
  {
   "cell_type": "code",
   "execution_count": 1177,
   "outputs": [],
   "source": [
    "table_scaled= table/255.0"
   ],
   "metadata": {
    "collapsed": false,
    "pycharm": {
     "name": "#%%\n"
    }
   }
  },
  {
   "cell_type": "code",
   "execution_count": 1178,
   "outputs": [],
   "source": [
    "scaled_data = table_scaled.values.reshape([-1,28,28,1])"
   ],
   "metadata": {
    "collapsed": false,
    "pycharm": {
     "name": "#%%\n"
    }
   }
  },
  {
   "cell_type": "code",
   "execution_count": 1179,
   "outputs": [
    {
     "data": {
      "text/plain": "<matplotlib.image.AxesImage at 0x2ded15850>"
     },
     "execution_count": 1179,
     "metadata": {},
     "output_type": "execute_result"
    },
    {
     "data": {
      "text/plain": "<Figure size 640x480 with 1 Axes>",
      "image/png": "[encoded data removed]"
     },
     "metadata": {},
     "output_type": "display_data"
    }
   ],
   "source": [
    "plt.imshow(scaled_data[60],cmap='gray')"
   ],
   "metadata": {
    "collapsed": false,
    "pycharm": {
     "name": "#%%\n"
    }
   }
  },
  {
   "cell_type": "code",
   "execution_count": 1204,
   "outputs": [],
   "source": [
    "def averaging(image):\n",
    "    return cv2.blur(image,(3,3))"
   ],
   "metadata": {
    "collapsed": false,
    "pycharm": {
     "name": "#%%\n"
    }
   }
  },
  {
   "cell_type": "code",
   "execution_count": 1205,
   "outputs": [],
   "source": [
    "def gaussian(image):\n",
    "    return cv2.GaussianBlur(image,(3,3),0)"
   ],
   "metadata": {
    "collapsed": false,
    "pycharm": {
     "name": "#%%\n"
    }
   }
  },
  {
   "cell_type": "code",
   "execution_count": 1206,
   "outputs": [
    {
     "data": {
      "text/plain": "<matplotlib.image.AxesImage at 0x2de5d6310>"
     },
     "execution_count": 1206,
     "metadata": {},
     "output_type": "execute_result"
    },
    {
     "data": {
      "text/plain": "<Figure size 640x480 with 1 Axes>",
      "image/png": "[encoded data removed]"
     },
     "metadata": {},
     "output_type": "display_data"
    }
   ],
   "source": [
    "plt.imshow(averaging(gaussian(scaled_data[60])), cmap='gray')"
   ],
   "metadata": {
    "collapsed": false,
    "pycharm": {
     "name": "#%%\n"
    }
   }
  },
  {
   "cell_type": "code",
   "execution_count": 1207,
   "outputs": [],
   "source": [
    "image_transformed = []\n",
    "for i in range(scaled_data.shape[0]):\n",
    "    image_transformed.append(averaging(gaussian(scaled_data[i])).reshape(-1,784))\n",
    "transformed_np_array = np.array(image_transformed)"
   ],
   "metadata": {
    "collapsed": false,
    "pycharm": {
     "name": "#%%\n"
    }
   }
  },
  {
   "cell_type": "code",
   "execution_count": 1208,
   "outputs": [],
   "source": [
    "data = transformed_np_array.reshape(transformed_np_array.shape[0],transformed_np_array.shape[-1])"
   ],
   "metadata": {
    "collapsed": false,
    "pycharm": {
     "name": "#%%\n"
    }
   }
  },
  {
   "cell_type": "code",
   "execution_count": 1209,
   "outputs": [
    {
     "data": {
      "text/plain": "(10740, 784)"
     },
     "execution_count": 1209,
     "metadata": {},
     "output_type": "execute_result"
    }
   ],
   "source": [
    "data.shape"
   ],
   "metadata": {
    "collapsed": false,
    "pycharm": {
     "name": "#%%\n"
    }
   }
  },
  {
   "cell_type": "code",
   "execution_count": 1210,
   "outputs": [],
   "source": [
    "pca = PCA(n_components=.99)\n",
    "data = pca.fit_transform(data)"
   ],
   "metadata": {
    "collapsed": false,
    "pycharm": {
     "name": "#%%\n"
    }
   }
  },
  {
   "cell_type": "code",
   "execution_count": 1211,
   "outputs": [
    {
     "data": {
      "text/plain": "(10740, 65)"
     },
     "execution_count": 1211,
     "metadata": {},
     "output_type": "execute_result"
    }
   ],
   "source": [
    "data.shape"
   ],
   "metadata": {
    "collapsed": false,
    "pycharm": {
     "name": "#%%\n"
    }
   }
  },
  {
   "cell_type": "code",
   "execution_count": 1212,
   "outputs": [
    {
     "name": "stderr",
     "output_type": "stream",
     "text": [
      "/Users/bhabaranjanpanigrahi/miniforge3/envs/mlp/lib/python3.8/site-packages/sklearn/manifold/_t_sne.py:800: FutureWarning: The default initialization in TSNE will change from 'random' to 'pca' in 1.2.\n",
      "  warnings.warn(\n",
      "/Users/bhabaranjanpanigrahi/miniforge3/envs/mlp/lib/python3.8/site-packages/sklearn/manifold/_t_sne.py:810: FutureWarning: The default learning rate in TSNE will change from 200.0 to 'auto' in 1.2.\n",
      "  warnings.warn(\n"
     ]
    }
   ],
   "source": [
    "tsne = TSNE(n_components=2,\n",
    "            n_iter=5000,\n",
    "            n_iter_without_progress=250,\n",
    "            perplexity=19,\n",
    "            early_exaggeration=26)\n",
    "data_to_lower_dim = tsne.fit_transform(data)"
   ],
   "metadata": {
    "collapsed": false,
    "pycharm": {
     "name": "#%%\n"
    }
   }
  },
  {
   "cell_type": "code",
   "execution_count": 1213,
   "outputs": [],
   "source": [
    "scaler = MinMaxScaler(feature_range=(1,1000))\n",
    "data_scaled_and_transformed = scaler.fit_transform(data_to_lower_dim)"
   ],
   "metadata": {
    "collapsed": false,
    "pycharm": {
     "name": "#%%\n"
    }
   }
  },
  {
   "cell_type": "code",
   "execution_count": 1214,
   "outputs": [
    {
     "data": {
      "text/plain": "<matplotlib.collections.PathCollection at 0x2b281f280>"
     },
     "execution_count": 1214,
     "metadata": {},
     "output_type": "execute_result"
    },
    {
     "data": {
      "text/plain": "<Figure size 640x480 with 1 Axes>",
      "image/png": "[encoded data removed]"
     },
     "metadata": {},
     "output_type": "display_data"
    }
   ],
   "source": [
    "plt.scatter(data_scaled_and_transformed[:,0], data_scaled_and_transformed[:,1])"
   ],
   "metadata": {
    "collapsed": false,
    "pycharm": {
     "name": "#%%\n"
    }
   }
  },
  {
   "cell_type": "code",
   "execution_count": 1215,
   "outputs": [],
   "source": [
    "def generateKCentroid(data, k):\n",
    "    random_index = [ np.random.randint(0,data.shape[0],size=data.shape[1]) for i in range(k)]\n",
    "    centroids = []\n",
    "    for i in range(len(random_index)):\n",
    "        curr = random_index[i]\n",
    "        build_centroid = []\n",
    "        for j in range(len(curr)):\n",
    "            build_centroid.append(data[curr[j],j])\n",
    "        centroids.append(build_centroid)\n",
    "    return np.array(centroids)"
   ],
   "metadata": {
    "collapsed": false,
    "pycharm": {
     "name": "#%%\n"
    }
   }
  },
  {
   "cell_type": "code",
   "execution_count": 1216,
   "outputs": [],
   "source": [
    "def calculateInertia(data_set, centroid, cluster_assigned):\n",
    "    sum_of_squared_distance = 0\n",
    "    cluster_assigned = np.array(cluster_assigned)\n",
    "    centroid = np.array(centroid)\n",
    "    for i in range(cluster_assigned.shape[0]):\n",
    "        distance = euclidean_distances(data_set[i].reshape(1,-1), centroid[cluster_assigned[i]].reshape(1,-1))\n",
    "        sum_of_squared_distance += (distance*distance)\n",
    "    return sum_of_squared_distance"
   ],
   "metadata": {
    "collapsed": false,
    "pycharm": {
     "name": "#%%\n"
    }
   }
  },
  {
   "cell_type": "code",
   "execution_count": 1217,
   "outputs": [],
   "source": [
    "from sklearn.metrics.pairwise import euclidean_distances\n",
    "def runKmeanClustering(cluster_size, train_data, centroids):\n",
    "    iteration = 0\n",
    "    while True:\n",
    "        iteration += 1\n",
    "        restart = False\n",
    "        distance_e = euclidean_distances(train_data, centroids)\n",
    "        distance = distance_e\n",
    "\n",
    "        cluster_assigned  = np.argmin(distance, axis=1)\n",
    "        cluster_bucket = {}\n",
    "\n",
    "        for i in range(cluster_size):\n",
    "            cluster_bucket[i] = []\n",
    "\n",
    "        for index in range(cluster_assigned.shape[0]):\n",
    "            cluster_bucket[cluster_assigned[index]].append(train_data[index])\n",
    "\n",
    "        for cluster in range(cluster_size):\n",
    "            if len(cluster_bucket[cluster]) == 0:\n",
    "                print(\"cluster with ID=====> \"+ str(cluster) + \" does not have any data points\" )\n",
    "                print(\"re-initializing centroids\")\n",
    "                centroids = generateKCentroid(data, cluster_size)\n",
    "                restart = True\n",
    "                break\n",
    "\n",
    "        if restart:\n",
    "            print(\"re-staring k-means\")\n",
    "            continue\n",
    "        centroid_of_cluster = []\n",
    "\n",
    "        for cluster in range(cluster_size):\n",
    "            centroid_of_cluster.append(np.mean(np.array(cluster_bucket[cluster]) ,axis=0))\n",
    "\n",
    "        if np.array_equal(centroid_of_cluster, centroids):\n",
    "            return centroids, cluster_assigned\n",
    "        else:\n",
    "            centroids = np.array(centroid_of_cluster)"
   ],
   "metadata": {
    "collapsed": false,
    "pycharm": {
     "name": "#%%\n"
    }
   }
  },
  {
   "cell_type": "code",
   "execution_count": 1218,
   "outputs": [],
   "source": [
    "def runKmeansWithParams(train_data, num_cluster, init_cluster_size, step_increament = 1, num_iteration = 10):\n",
    "    choosen_best_cluster_and_inertia = []\n",
    "    cluster_to_process = []\n",
    "    init_cluster = init_cluster_size\n",
    "\n",
    "    for cluster in range(num_cluster):\n",
    "        cluster_to_process.append(init_cluster + step_increament)\n",
    "        init_cluster += step_increament\n",
    "\n",
    "    for k in cluster_to_process:\n",
    "        save_cluster =[]\n",
    "        save_intertia = []\n",
    "        print(\"cluster_size:>>>>>>>>>>>>>>>>>>>>>>>>>>>>>>>>>>>>>>>>>>>>>>>>>>\", k)\n",
    "        for i in range(num_iteration):\n",
    "            print(\"iteration:================================================>\", i)\n",
    "            k_centroids, assigned_cluster = runKmeanClustering(k, train_data, generateKCentroid(train_data,k))\n",
    "            save_cluster.append(assigned_cluster)\n",
    "            save_intertia.append(calculateInertia(train_data,k_centroids,assigned_cluster))\n",
    "\n",
    "        index = np.argmin(save_intertia)\n",
    "        choosen_best_cluster_and_inertia.append((save_cluster[index], save_intertia[index]))\n",
    "\n",
    "    return choosen_best_cluster_and_inertia"
   ],
   "metadata": {
    "collapsed": false,
    "pycharm": {
     "name": "#%%\n"
    }
   }
  },
  {
   "cell_type": "code",
   "execution_count": 1219,
   "outputs": [],
   "source": [
    "data = data_scaled_and_transformed"
   ],
   "metadata": {
    "collapsed": false,
    "pycharm": {
     "name": "#%%\n"
    }
   }
  },
  {
   "cell_type": "code",
   "execution_count": 1248,
   "outputs": [
    {
     "name": "stdout",
     "output_type": "stream",
     "text": [
      "cluster_size:>>>>>>>>>>>>>>>>>>>>>>>>>>>>>>>>>>>>>>>>>>>>>>>>>> 10\n",
      "iteration:================================================> 0\n",
      "iteration:================================================> 1\n",
      "cluster with ID=====> 5 does not have any data points\n",
      "re-initializing centroids\n",
      "re-staring k-means\n",
      "iteration:================================================> 2\n",
      "iteration:================================================> 3\n",
      "iteration:================================================> 4\n",
      "iteration:================================================> 5\n",
      "iteration:================================================> 6\n",
      "iteration:================================================> 7\n",
      "iteration:================================================> 8\n",
      "iteration:================================================> 9\n",
      "iteration:================================================> 10\n",
      "cluster with ID=====> 2 does not have any data points\n",
      "re-initializing centroids\n",
      "re-staring k-means\n",
      "iteration:================================================> 11\n",
      "iteration:================================================> 12\n",
      "iteration:================================================> 13\n",
      "iteration:================================================> 14\n",
      "iteration:================================================> 15\n",
      "iteration:================================================> 16\n",
      "cluster with ID=====> 3 does not have any data points\n",
      "re-initializing centroids\n",
      "re-staring k-means\n",
      "iteration:================================================> 17\n",
      "cluster with ID=====> 2 does not have any data points\n",
      "re-initializing centroids\n",
      "re-staring k-means\n",
      "iteration:================================================> 18\n",
      "iteration:================================================> 19\n",
      "iteration:================================================> 20\n",
      "iteration:================================================> 21\n",
      "iteration:================================================> 22\n",
      "iteration:================================================> 23\n",
      "iteration:================================================> 24\n",
      "iteration:================================================> 25\n",
      "cluster with ID=====> 5 does not have any data points\n",
      "re-initializing centroids\n",
      "re-staring k-means\n",
      "iteration:================================================> 26\n",
      "iteration:================================================> 27\n",
      "iteration:================================================> 28\n",
      "iteration:================================================> 29\n",
      "iteration:================================================> 30\n",
      "iteration:================================================> 31\n",
      "iteration:================================================> 32\n",
      "iteration:================================================> 33\n",
      "iteration:================================================> 34\n",
      "iteration:================================================> 35\n",
      "iteration:================================================> 36\n",
      "iteration:================================================> 37\n",
      "iteration:================================================> 38\n",
      "iteration:================================================> 39\n",
      "iteration:================================================> 40\n",
      "iteration:================================================> 41\n",
      "iteration:================================================> 42\n",
      "cluster with ID=====> 6 does not have any data points\n",
      "re-initializing centroids\n",
      "re-staring k-means\n",
      "iteration:================================================> 43\n",
      "iteration:================================================> 44\n",
      "iteration:================================================> 45\n",
      "iteration:================================================> 46\n",
      "iteration:================================================> 47\n",
      "iteration:================================================> 48\n",
      "iteration:================================================> 49\n",
      "iteration:================================================> 50\n",
      "iteration:================================================> 51\n",
      "iteration:================================================> 52\n",
      "cluster with ID=====> 0 does not have any data points\n",
      "re-initializing centroids\n",
      "re-staring k-means\n",
      "cluster with ID=====> 2 does not have any data points\n",
      "re-initializing centroids\n",
      "re-staring k-means\n",
      "iteration:================================================> 53\n",
      "cluster with ID=====> 4 does not have any data points\n",
      "re-initializing centroids\n",
      "re-staring k-means\n",
      "iteration:================================================> 54\n",
      "iteration:================================================> 55\n",
      "iteration:================================================> 56\n",
      "iteration:================================================> 57\n",
      "iteration:================================================> 58\n",
      "iteration:================================================> 59\n",
      "iteration:================================================> 60\n",
      "iteration:================================================> 61\n",
      "iteration:================================================> 62\n",
      "cluster with ID=====> 0 does not have any data points\n",
      "re-initializing centroids\n",
      "re-staring k-means\n",
      "iteration:================================================> 63\n",
      "iteration:================================================> 64\n",
      "iteration:================================================> 65\n",
      "iteration:================================================> 66\n",
      "iteration:================================================> 67\n",
      "iteration:================================================> 68\n",
      "iteration:================================================> 69\n",
      "iteration:================================================> 70\n",
      "cluster with ID=====> 7 does not have any data points\n",
      "re-initializing centroids\n",
      "re-staring k-means\n",
      "iteration:================================================> 71\n",
      "iteration:================================================> 72\n",
      "iteration:================================================> 73\n",
      "iteration:================================================> 74\n",
      "iteration:================================================> 75\n",
      "iteration:================================================> 76\n",
      "iteration:================================================> 77\n",
      "iteration:================================================> 78\n",
      "iteration:================================================> 79\n",
      "iteration:================================================> 80\n",
      "iteration:================================================> 81\n",
      "iteration:================================================> 82\n",
      "iteration:================================================> 83\n",
      "iteration:================================================> 84\n",
      "iteration:================================================> 85\n",
      "iteration:================================================> 86\n",
      "iteration:================================================> 87\n",
      "iteration:================================================> 88\n",
      "iteration:================================================> 89\n",
      "iteration:================================================> 90\n",
      "iteration:================================================> 91\n",
      "iteration:================================================> 92\n",
      "iteration:================================================> 93\n",
      "iteration:================================================> 94\n",
      "iteration:================================================> 95\n",
      "cluster with ID=====> 7 does not have any data points\n",
      "re-initializing centroids\n",
      "re-staring k-means\n",
      "iteration:================================================> 96\n",
      "iteration:================================================> 97\n",
      "iteration:================================================> 98\n",
      "cluster with ID=====> 5 does not have any data points\n",
      "re-initializing centroids\n",
      "re-staring k-means\n",
      "iteration:================================================> 99\n",
      "iteration:================================================> 100\n",
      "iteration:================================================> 101\n",
      "iteration:================================================> 102\n",
      "iteration:================================================> 103\n",
      "iteration:================================================> 104\n",
      "iteration:================================================> 105\n",
      "iteration:================================================> 106\n",
      "cluster with ID=====> 2 does not have any data points\n",
      "re-initializing centroids\n",
      "re-staring k-means\n",
      "cluster with ID=====> 3 does not have any data points\n",
      "re-initializing centroids\n",
      "re-staring k-means\n",
      "iteration:================================================> 107\n",
      "iteration:================================================> 108\n",
      "iteration:================================================> 109\n",
      "iteration:================================================> 110\n",
      "iteration:================================================> 111\n",
      "iteration:================================================> 112\n",
      "cluster with ID=====> 1 does not have any data points\n",
      "re-initializing centroids\n",
      "re-staring k-means\n",
      "iteration:================================================> 113\n",
      "iteration:================================================> 114\n",
      "iteration:================================================> 115\n",
      "iteration:================================================> 116\n",
      "iteration:================================================> 117\n",
      "iteration:================================================> 118\n",
      "iteration:================================================> 119\n",
      "iteration:================================================> 120\n",
      "iteration:================================================> 121\n",
      "iteration:================================================> 122\n",
      "iteration:================================================> 123\n",
      "iteration:================================================> 124\n",
      "cluster with ID=====> 2 does not have any data points\n",
      "re-initializing centroids\n",
      "re-staring k-means\n",
      "iteration:================================================> 125\n",
      "iteration:================================================> 126\n",
      "iteration:================================================> 127\n",
      "iteration:================================================> 128\n",
      "iteration:================================================> 129\n",
      "iteration:================================================> 130\n",
      "iteration:================================================> 131\n",
      "iteration:================================================> 132\n",
      "iteration:================================================> 133\n",
      "iteration:================================================> 134\n",
      "cluster with ID=====> 3 does not have any data points\n",
      "re-initializing centroids\n",
      "re-staring k-means\n",
      "iteration:================================================> 135\n",
      "iteration:================================================> 136\n",
      "iteration:================================================> 137\n",
      "iteration:================================================> 138\n",
      "iteration:================================================> 139\n",
      "iteration:================================================> 140\n",
      "iteration:================================================> 141\n",
      "iteration:================================================> 142\n",
      "iteration:================================================> 143\n",
      "iteration:================================================> 144\n",
      "iteration:================================================> 145\n",
      "iteration:================================================> 146\n",
      "iteration:================================================> 147\n",
      "iteration:================================================> 148\n",
      "iteration:================================================> 149\n",
      "cluster with ID=====> 1 does not have any data points\n",
      "re-initializing centroids\n",
      "re-staring k-means\n",
      "iteration:================================================> 150\n",
      "iteration:================================================> 151\n",
      "iteration:================================================> 152\n",
      "iteration:================================================> 153\n",
      "cluster with ID=====> 9 does not have any data points\n",
      "re-initializing centroids\n",
      "re-staring k-means\n",
      "iteration:================================================> 154\n",
      "iteration:================================================> 155\n",
      "iteration:================================================> 156\n",
      "iteration:================================================> 157\n",
      "iteration:================================================> 158\n",
      "iteration:================================================> 159\n",
      "iteration:================================================> 160\n",
      "iteration:================================================> 161\n",
      "iteration:================================================> 162\n",
      "iteration:================================================> 163\n",
      "iteration:================================================> 164\n",
      "iteration:================================================> 165\n",
      "iteration:================================================> 166\n",
      "iteration:================================================> 167\n",
      "iteration:================================================> 168\n",
      "iteration:================================================> 169\n",
      "iteration:================================================> 170\n",
      "iteration:================================================> 171\n",
      "iteration:================================================> 172\n",
      "iteration:================================================> 173\n",
      "cluster with ID=====> 3 does not have any data points\n",
      "re-initializing centroids\n",
      "re-staring k-means\n",
      "cluster with ID=====> 7 does not have any data points\n",
      "re-initializing centroids\n",
      "re-staring k-means\n",
      "iteration:================================================> 174\n",
      "iteration:================================================> 175\n",
      "cluster with ID=====> 7 does not have any data points\n",
      "re-initializing centroids\n",
      "re-staring k-means\n",
      "iteration:================================================> 176\n",
      "iteration:================================================> 177\n",
      "iteration:================================================> 178\n",
      "iteration:================================================> 179\n",
      "iteration:================================================> 180\n",
      "iteration:================================================> 181\n",
      "iteration:================================================> 182\n",
      "iteration:================================================> 183\n",
      "iteration:================================================> 184\n",
      "iteration:================================================> 185\n",
      "iteration:================================================> 186\n",
      "iteration:================================================> 187\n",
      "iteration:================================================> 188\n",
      "iteration:================================================> 189\n",
      "iteration:================================================> 190\n",
      "iteration:================================================> 191\n",
      "iteration:================================================> 192\n",
      "iteration:================================================> 193\n",
      "iteration:================================================> 194\n",
      "iteration:================================================> 195\n",
      "iteration:================================================> 196\n",
      "iteration:================================================> 197\n",
      "iteration:================================================> 198\n",
      "iteration:================================================> 199\n",
      "iteration:================================================> 200\n",
      "iteration:================================================> 201\n",
      "iteration:================================================> 202\n",
      "iteration:================================================> 203\n",
      "iteration:================================================> 204\n",
      "iteration:================================================> 205\n",
      "iteration:================================================> 206\n",
      "iteration:================================================> 207\n",
      "iteration:================================================> 208\n",
      "iteration:================================================> 209\n",
      "iteration:================================================> 210\n",
      "iteration:================================================> 211\n",
      "iteration:================================================> 212\n",
      "iteration:================================================> 213\n",
      "iteration:================================================> 214\n",
      "iteration:================================================> 215\n",
      "iteration:================================================> 216\n",
      "iteration:================================================> 217\n",
      "cluster with ID=====> 9 does not have any data points\n",
      "re-initializing centroids\n",
      "re-staring k-means\n",
      "iteration:================================================> 218\n",
      "iteration:================================================> 219\n",
      "iteration:================================================> 220\n",
      "iteration:================================================> 221\n",
      "iteration:================================================> 222\n",
      "iteration:================================================> 223\n",
      "iteration:================================================> 224\n",
      "iteration:================================================> 225\n",
      "iteration:================================================> 226\n",
      "iteration:================================================> 227\n",
      "cluster with ID=====> 8 does not have any data points\n",
      "re-initializing centroids\n",
      "re-staring k-means\n",
      "iteration:================================================> 228\n",
      "iteration:================================================> 229\n",
      "cluster with ID=====> 3 does not have any data points\n",
      "re-initializing centroids\n",
      "re-staring k-means\n",
      "iteration:================================================> 230\n",
      "iteration:================================================> 231\n",
      "iteration:================================================> 232\n",
      "iteration:================================================> 233\n",
      "iteration:================================================> 234\n",
      "cluster with ID=====> 4 does not have any data points\n",
      "re-initializing centroids\n",
      "re-staring k-means\n",
      "iteration:================================================> 235\n",
      "iteration:================================================> 236\n",
      "iteration:================================================> 237\n",
      "iteration:================================================> 238\n",
      "iteration:================================================> 239\n",
      "iteration:================================================> 240\n",
      "iteration:================================================> 241\n",
      "iteration:================================================> 242\n",
      "iteration:================================================> 243\n",
      "iteration:================================================> 244\n",
      "iteration:================================================> 245\n",
      "cluster with ID=====> 4 does not have any data points\n",
      "re-initializing centroids\n",
      "re-staring k-means\n",
      "iteration:================================================> 246\n",
      "iteration:================================================> 247\n",
      "iteration:================================================> 248\n",
      "iteration:================================================> 249\n",
      "iteration:================================================> 250\n",
      "iteration:================================================> 251\n",
      "iteration:================================================> 252\n",
      "iteration:================================================> 253\n",
      "iteration:================================================> 254\n",
      "iteration:================================================> 255\n",
      "iteration:================================================> 256\n",
      "iteration:================================================> 257\n",
      "iteration:================================================> 258\n",
      "iteration:================================================> 259\n",
      "iteration:================================================> 260\n",
      "iteration:================================================> 261\n",
      "iteration:================================================> 262\n",
      "iteration:================================================> 263\n",
      "iteration:================================================> 264\n",
      "iteration:================================================> 265\n",
      "iteration:================================================> 266\n",
      "iteration:================================================> 267\n",
      "iteration:================================================> 268\n",
      "cluster with ID=====> 1 does not have any data points\n",
      "re-initializing centroids\n",
      "re-staring k-means\n",
      "iteration:================================================> 269\n",
      "iteration:================================================> 270\n",
      "cluster with ID=====> 0 does not have any data points\n",
      "re-initializing centroids\n",
      "re-staring k-means\n",
      "iteration:================================================> 271\n",
      "iteration:================================================> 272\n",
      "iteration:================================================> 273\n",
      "iteration:================================================> 274\n",
      "iteration:================================================> 275\n",
      "iteration:================================================> 276\n",
      "iteration:================================================> 277\n",
      "iteration:================================================> 278\n",
      "iteration:================================================> 279\n",
      "iteration:================================================> 280\n",
      "iteration:================================================> 281\n",
      "iteration:================================================> 282\n",
      "iteration:================================================> 283\n",
      "iteration:================================================> 284\n",
      "iteration:================================================> 285\n",
      "iteration:================================================> 286\n",
      "iteration:================================================> 287\n",
      "iteration:================================================> 288\n",
      "iteration:================================================> 289\n",
      "iteration:================================================> 290\n",
      "cluster with ID=====> 2 does not have any data points\n",
      "re-initializing centroids\n",
      "re-staring k-means\n",
      "cluster with ID=====> 7 does not have any data points\n",
      "re-initializing centroids\n",
      "re-staring k-means\n",
      "iteration:================================================> 291\n",
      "iteration:================================================> 292\n",
      "iteration:================================================> 293\n",
      "iteration:================================================> 294\n",
      "iteration:================================================> 295\n",
      "iteration:================================================> 296\n",
      "iteration:================================================> 297\n",
      "iteration:================================================> 298\n",
      "iteration:================================================> 299\n",
      "iteration:================================================> 300\n",
      "iteration:================================================> 301\n",
      "iteration:================================================> 302\n",
      "iteration:================================================> 303\n",
      "iteration:================================================> 304\n",
      "iteration:================================================> 305\n",
      "iteration:================================================> 306\n",
      "iteration:================================================> 307\n",
      "iteration:================================================> 308\n",
      "iteration:================================================> 309\n",
      "iteration:================================================> 310\n",
      "iteration:================================================> 311\n",
      "iteration:================================================> 312\n",
      "cluster with ID=====> 6 does not have any data points\n",
      "re-initializing centroids\n",
      "re-staring k-means\n",
      "cluster with ID=====> 2 does not have any data points\n",
      "re-initializing centroids\n",
      "re-staring k-means\n",
      "cluster with ID=====> 9 does not have any data points\n",
      "re-initializing centroids\n",
      "re-staring k-means\n",
      "iteration:================================================> 313\n",
      "iteration:================================================> 314\n",
      "cluster with ID=====> 6 does not have any data points\n",
      "re-initializing centroids\n",
      "re-staring k-means\n",
      "iteration:================================================> 315\n",
      "iteration:================================================> 316\n",
      "iteration:================================================> 317\n",
      "iteration:================================================> 318\n",
      "iteration:================================================> 319\n",
      "cluster with ID=====> 5 does not have any data points\n",
      "re-initializing centroids\n",
      "re-staring k-means\n",
      "iteration:================================================> 320\n",
      "iteration:================================================> 321\n",
      "iteration:================================================> 322\n",
      "iteration:================================================> 323\n",
      "iteration:================================================> 324\n",
      "iteration:================================================> 325\n",
      "cluster with ID=====> 7 does not have any data points\n",
      "re-initializing centroids\n",
      "re-staring k-means\n",
      "iteration:================================================> 326\n",
      "iteration:================================================> 327\n",
      "cluster with ID=====> 4 does not have any data points\n",
      "re-initializing centroids\n",
      "re-staring k-means\n",
      "iteration:================================================> 328\n",
      "iteration:================================================> 329\n",
      "iteration:================================================> 330\n",
      "iteration:================================================> 331\n",
      "iteration:================================================> 332\n",
      "iteration:================================================> 333\n",
      "iteration:================================================> 334\n",
      "iteration:================================================> 335\n",
      "cluster with ID=====> 5 does not have any data points\n",
      "re-initializing centroids\n",
      "re-staring k-means\n",
      "iteration:================================================> 336\n",
      "iteration:================================================> 337\n",
      "cluster with ID=====> 0 does not have any data points\n",
      "re-initializing centroids\n",
      "re-staring k-means\n",
      "iteration:================================================> 338\n",
      "iteration:================================================> 339\n",
      "cluster with ID=====> 0 does not have any data points\n",
      "re-initializing centroids\n",
      "re-staring k-means\n",
      "iteration:================================================> 340\n",
      "iteration:================================================> 341\n",
      "iteration:================================================> 342\n",
      "cluster with ID=====> 9 does not have any data points\n",
      "re-initializing centroids\n",
      "re-staring k-means\n",
      "iteration:================================================> 343\n",
      "iteration:================================================> 344\n",
      "iteration:================================================> 345\n",
      "iteration:================================================> 346\n",
      "cluster with ID=====> 4 does not have any data points\n",
      "re-initializing centroids\n",
      "re-staring k-means\n",
      "iteration:================================================> 347\n",
      "iteration:================================================> 348\n",
      "iteration:================================================> 349\n",
      "cluster with ID=====> 6 does not have any data points\n",
      "re-initializing centroids\n",
      "re-staring k-means\n",
      "iteration:================================================> 350\n",
      "cluster with ID=====> 7 does not have any data points\n",
      "re-initializing centroids\n",
      "re-staring k-means\n",
      "iteration:================================================> 351\n",
      "iteration:================================================> 352\n",
      "iteration:================================================> 353\n",
      "iteration:================================================> 354\n",
      "cluster with ID=====> 7 does not have any data points\n",
      "re-initializing centroids\n",
      "re-staring k-means\n",
      "iteration:================================================> 355\n",
      "cluster with ID=====> 7 does not have any data points\n",
      "re-initializing centroids\n",
      "re-staring k-means\n",
      "iteration:================================================> 356\n",
      "iteration:================================================> 357\n",
      "iteration:================================================> 358\n",
      "iteration:================================================> 359\n",
      "iteration:================================================> 360\n",
      "iteration:================================================> 361\n",
      "cluster with ID=====> 0 does not have any data points\n",
      "re-initializing centroids\n",
      "re-staring k-means\n",
      "iteration:================================================> 362\n",
      "iteration:================================================> 363\n",
      "iteration:================================================> 364\n",
      "iteration:================================================> 365\n",
      "cluster with ID=====> 6 does not have any data points\n",
      "re-initializing centroids\n",
      "re-staring k-means\n",
      "iteration:================================================> 366\n",
      "iteration:================================================> 367\n",
      "iteration:================================================> 368\n",
      "iteration:================================================> 369\n",
      "iteration:================================================> 370\n",
      "iteration:================================================> 371\n",
      "iteration:================================================> 372\n",
      "iteration:================================================> 373\n",
      "iteration:================================================> 374\n",
      "iteration:================================================> 375\n",
      "iteration:================================================> 376\n",
      "cluster with ID=====> 3 does not have any data points\n",
      "re-initializing centroids\n",
      "re-staring k-means\n",
      "iteration:================================================> 377\n",
      "iteration:================================================> 378\n",
      "iteration:================================================> 379\n",
      "iteration:================================================> 380\n",
      "cluster with ID=====> 2 does not have any data points\n",
      "re-initializing centroids\n",
      "re-staring k-means\n",
      "iteration:================================================> 381\n",
      "cluster with ID=====> 7 does not have any data points\n",
      "re-initializing centroids\n",
      "re-staring k-means\n",
      "iteration:================================================> 382\n",
      "iteration:================================================> 383\n",
      "iteration:================================================> 384\n",
      "iteration:================================================> 385\n",
      "iteration:================================================> 386\n",
      "iteration:================================================> 387\n",
      "iteration:================================================> 388\n",
      "iteration:================================================> 389\n",
      "iteration:================================================> 390\n",
      "iteration:================================================> 391\n",
      "iteration:================================================> 392\n",
      "iteration:================================================> 393\n",
      "iteration:================================================> 394\n",
      "iteration:================================================> 395\n",
      "iteration:================================================> 396\n",
      "iteration:================================================> 397\n",
      "iteration:================================================> 398\n",
      "iteration:================================================> 399\n"
     ]
    }
   ],
   "source": [
    "resulting_cluster = runKmeansWithParams(data,1,10,0,400)"
   ],
   "metadata": {
    "collapsed": false,
    "pycharm": {
     "name": "#%%\n"
    }
   }
  },
  {
   "cell_type": "code",
   "execution_count": 1249,
   "outputs": [
    {
     "data": {
      "text/plain": "[(array([6, 4, 4, ..., 0, 7, 6]), array([[88250488.]], dtype=float32))]"
     },
     "execution_count": 1249,
     "metadata": {},
     "output_type": "execute_result"
    }
   ],
   "source": [
    "resulting_cluster"
   ],
   "metadata": {
    "collapsed": false,
    "pycharm": {
     "name": "#%%\n"
    }
   }
  },
  {
   "cell_type": "code",
   "execution_count": 1250,
   "outputs": [
    {
     "data": {
      "text/plain": "0.4992995"
     },
     "execution_count": 1250,
     "metadata": {},
     "output_type": "execute_result"
    }
   ],
   "source": [
    "from sklearn.metrics import silhouette_score\n",
    "silhouette_score(data, resulting_cluster[0][0])"
   ],
   "metadata": {
    "collapsed": false,
    "pycharm": {
     "name": "#%%\n"
    }
   }
  },
  {
   "cell_type": "code",
   "execution_count": 1251,
   "outputs": [
    {
     "name": "stdout",
     "output_type": "stream",
     "text": [
      "cluster_size:>>>>>>>>>>>>>>>>>>>>>>>>>>>>>>>>>>>>>>>>>>>>>>>>>> 2\n",
      "iteration:================================================> 0\n",
      "iteration:================================================> 1\n",
      "iteration:================================================> 2\n",
      "iteration:================================================> 3\n",
      "iteration:================================================> 4\n",
      "iteration:================================================> 5\n",
      "iteration:================================================> 6\n",
      "iteration:================================================> 7\n",
      "iteration:================================================> 8\n",
      "iteration:================================================> 9\n",
      "cluster_size:>>>>>>>>>>>>>>>>>>>>>>>>>>>>>>>>>>>>>>>>>>>>>>>>>> 4\n",
      "iteration:================================================> 0\n",
      "iteration:================================================> 1\n",
      "iteration:================================================> 2\n",
      "iteration:================================================> 3\n",
      "iteration:================================================> 4\n",
      "iteration:================================================> 5\n",
      "iteration:================================================> 6\n",
      "iteration:================================================> 7\n",
      "iteration:================================================> 8\n",
      "iteration:================================================> 9\n",
      "cluster_size:>>>>>>>>>>>>>>>>>>>>>>>>>>>>>>>>>>>>>>>>>>>>>>>>>> 6\n",
      "iteration:================================================> 0\n",
      "iteration:================================================> 1\n",
      "iteration:================================================> 2\n",
      "iteration:================================================> 3\n",
      "iteration:================================================> 4\n",
      "iteration:================================================> 5\n",
      "cluster with ID=====> 2 does not have any data points\n",
      "re-initializing centroids\n",
      "re-staring k-means\n",
      "iteration:================================================> 6\n",
      "iteration:================================================> 7\n",
      "iteration:================================================> 8\n",
      "iteration:================================================> 9\n",
      "cluster with ID=====> 0 does not have any data points\n",
      "re-initializing centroids\n",
      "re-staring k-means\n",
      "cluster_size:>>>>>>>>>>>>>>>>>>>>>>>>>>>>>>>>>>>>>>>>>>>>>>>>>> 8\n",
      "iteration:================================================> 0\n",
      "iteration:================================================> 1\n",
      "cluster with ID=====> 0 does not have any data points\n",
      "re-initializing centroids\n",
      "re-staring k-means\n",
      "iteration:================================================> 2\n",
      "iteration:================================================> 3\n",
      "iteration:================================================> 4\n",
      "iteration:================================================> 5\n",
      "iteration:================================================> 6\n",
      "iteration:================================================> 7\n",
      "iteration:================================================> 8\n",
      "iteration:================================================> 9\n",
      "cluster_size:>>>>>>>>>>>>>>>>>>>>>>>>>>>>>>>>>>>>>>>>>>>>>>>>>> 10\n",
      "iteration:================================================> 0\n",
      "iteration:================================================> 1\n",
      "iteration:================================================> 2\n",
      "iteration:================================================> 3\n",
      "iteration:================================================> 4\n",
      "iteration:================================================> 5\n",
      "iteration:================================================> 6\n",
      "iteration:================================================> 7\n",
      "iteration:================================================> 8\n",
      "cluster with ID=====> 7 does not have any data points\n",
      "re-initializing centroids\n",
      "re-staring k-means\n",
      "iteration:================================================> 9\n",
      "cluster_size:>>>>>>>>>>>>>>>>>>>>>>>>>>>>>>>>>>>>>>>>>>>>>>>>>> 12\n",
      "iteration:================================================> 0\n",
      "iteration:================================================> 1\n",
      "iteration:================================================> 2\n",
      "iteration:================================================> 3\n",
      "iteration:================================================> 4\n",
      "iteration:================================================> 5\n",
      "iteration:================================================> 6\n",
      "iteration:================================================> 7\n",
      "iteration:================================================> 8\n",
      "iteration:================================================> 9\n",
      "cluster_size:>>>>>>>>>>>>>>>>>>>>>>>>>>>>>>>>>>>>>>>>>>>>>>>>>> 14\n",
      "iteration:================================================> 0\n",
      "cluster with ID=====> 0 does not have any data points\n",
      "re-initializing centroids\n",
      "re-staring k-means\n",
      "iteration:================================================> 1\n",
      "cluster with ID=====> 12 does not have any data points\n",
      "re-initializing centroids\n",
      "re-staring k-means\n",
      "cluster with ID=====> 12 does not have any data points\n",
      "re-initializing centroids\n",
      "re-staring k-means\n",
      "iteration:================================================> 2\n",
      "iteration:================================================> 3\n",
      "iteration:================================================> 4\n",
      "iteration:================================================> 5\n",
      "iteration:================================================> 6\n",
      "iteration:================================================> 7\n",
      "iteration:================================================> 8\n",
      "iteration:================================================> 9\n",
      "cluster_size:>>>>>>>>>>>>>>>>>>>>>>>>>>>>>>>>>>>>>>>>>>>>>>>>>> 16\n",
      "iteration:================================================> 0\n",
      "iteration:================================================> 1\n",
      "iteration:================================================> 2\n",
      "iteration:================================================> 3\n",
      "cluster with ID=====> 6 does not have any data points\n",
      "re-initializing centroids\n",
      "re-staring k-means\n",
      "iteration:================================================> 4\n",
      "cluster with ID=====> 1 does not have any data points\n",
      "re-initializing centroids\n",
      "re-staring k-means\n",
      "iteration:================================================> 5\n",
      "iteration:================================================> 6\n",
      "iteration:================================================> 7\n",
      "iteration:================================================> 8\n",
      "cluster with ID=====> 7 does not have any data points\n",
      "re-initializing centroids\n",
      "re-staring k-means\n",
      "iteration:================================================> 9\n",
      "cluster_size:>>>>>>>>>>>>>>>>>>>>>>>>>>>>>>>>>>>>>>>>>>>>>>>>>> 18\n",
      "iteration:================================================> 0\n",
      "iteration:================================================> 1\n",
      "iteration:================================================> 2\n",
      "iteration:================================================> 3\n",
      "iteration:================================================> 4\n",
      "iteration:================================================> 5\n",
      "iteration:================================================> 6\n",
      "iteration:================================================> 7\n",
      "cluster with ID=====> 15 does not have any data points\n",
      "re-initializing centroids\n",
      "re-staring k-means\n",
      "cluster with ID=====> 8 does not have any data points\n",
      "re-initializing centroids\n",
      "re-staring k-means\n",
      "cluster with ID=====> 7 does not have any data points\n",
      "re-initializing centroids\n",
      "re-staring k-means\n",
      "iteration:================================================> 8\n",
      "cluster with ID=====> 5 does not have any data points\n",
      "re-initializing centroids\n",
      "re-staring k-means\n",
      "iteration:================================================> 9\n",
      "cluster_size:>>>>>>>>>>>>>>>>>>>>>>>>>>>>>>>>>>>>>>>>>>>>>>>>>> 20\n",
      "iteration:================================================> 0\n",
      "iteration:================================================> 1\n",
      "iteration:================================================> 2\n",
      "iteration:================================================> 3\n",
      "iteration:================================================> 4\n",
      "iteration:================================================> 5\n",
      "iteration:================================================> 6\n",
      "cluster with ID=====> 2 does not have any data points\n",
      "re-initializing centroids\n",
      "re-staring k-means\n",
      "iteration:================================================> 7\n",
      "cluster with ID=====> 2 does not have any data points\n",
      "re-initializing centroids\n",
      "re-staring k-means\n",
      "iteration:================================================> 8\n",
      "cluster with ID=====> 8 does not have any data points\n",
      "re-initializing centroids\n",
      "re-staring k-means\n",
      "cluster with ID=====> 13 does not have any data points\n",
      "re-initializing centroids\n",
      "re-staring k-means\n",
      "iteration:================================================> 9\n"
     ]
    }
   ],
   "source": [
    "test_cluter = runKmeansWithParams(data,10,0,2)"
   ],
   "metadata": {
    "collapsed": false,
    "pycharm": {
     "name": "#%%\n"
    }
   }
  },
  {
   "cell_type": "code",
   "execution_count": 1252,
   "outputs": [
    {
     "data": {
      "text/plain": "[(array([1, 0, 0, ..., 0, 1, 1]), array([[7.671425e+08]], dtype=float32)),\n (array([2, 0, 0, ..., 1, 3, 3]), array([[3.4249488e+08]], dtype=float32)),\n (array([4, 5, 5, ..., 1, 0, 4]), array([[1.9872973e+08]], dtype=float32)),\n (array([1, 0, 0, ..., 4, 3, 1]), array([[1.2275579e+08]], dtype=float32)),\n (array([8, 5, 5, ..., 6, 0, 8]), array([[88250488.]], dtype=float32)),\n (array([9, 0, 0, ..., 5, 7, 9]), array([[69658752.]], dtype=float32)),\n (array([ 2, 13, 13, ...,  3,  1, 12]), array([[58855000.]], dtype=float32)),\n (array([13, 10, 10, ..., 12,  6,  7]), array([[50701572.]], dtype=float32)),\n (array([10,  4,  4, ...,  2, 11,  1]), array([[44497540.]], dtype=float32)),\n (array([ 5, 17, 17, ...,  2,  9,  7]), array([[42124176.]], dtype=float32))]"
     },
     "execution_count": 1252,
     "metadata": {},
     "output_type": "execute_result"
    }
   ],
   "source": [
    "test_cluter"
   ],
   "metadata": {
    "collapsed": false,
    "pycharm": {
     "name": "#%%\n"
    }
   }
  },
  {
   "cell_type": "code",
   "execution_count": 1253,
   "outputs": [],
   "source": [
    "silhouette_metric = []\n",
    "inertia = []\n",
    "for i in range(10):\n",
    "  silhouette_metric.append(silhouette_score(data, test_cluter[i][0]))\n",
    "  inertia.append(test_cluter[i][1][0][0])"
   ],
   "metadata": {
    "collapsed": false,
    "pycharm": {
     "name": "#%%\n"
    }
   }
  },
  {
   "cell_type": "code",
   "execution_count": 1254,
   "outputs": [
    {
     "data": {
      "text/plain": "[<matplotlib.lines.Line2D at 0x2b5ef8880>]"
     },
     "execution_count": 1254,
     "metadata": {},
     "output_type": "execute_result"
    },
    {
     "data": {
      "text/plain": "<Figure size 640x480 with 1 Axes>",
      "image/png": "[encoded data removed]"
     },
     "metadata": {},
     "output_type": "display_data"
    }
   ],
   "source": [
    "plt.xlabel(\"K-value\")\n",
    "plt.ylabel(\" Intertia \")\n",
    "plt.plot([ i*2 for i in range(1,11)], inertia)"
   ],
   "metadata": {
    "collapsed": false,
    "pycharm": {
     "name": "#%%\n"
    }
   }
  },
  {
   "cell_type": "code",
   "execution_count": 1255,
   "outputs": [
    {
     "data": {
      "text/plain": "[<matplotlib.lines.Line2D at 0x2b29f1d90>]"
     },
     "execution_count": 1255,
     "metadata": {},
     "output_type": "execute_result"
    },
    {
     "data": {
      "text/plain": "<Figure size 640x480 with 1 Axes>",
      "image/png": "[encoded data removed]"
     },
     "metadata": {},
     "output_type": "display_data"
    }
   ],
   "source": [
    "plt.xlabel(\"  K-values  \" )\n",
    "plt.ylabel(\"  Silhouette Metric \")\n",
    "plt.plot([ i*2 for i in range(1,11)], silhouette_metric)"
   ],
   "metadata": {
    "collapsed": false,
    "pycharm": {
     "name": "#%%\n"
    }
   }
  },
  {
   "cell_type": "code",
   "execution_count": 1256,
   "outputs": [
    {
     "data": {
      "text/plain": "array([6, 4, 4, ..., 0, 7, 6])"
     },
     "execution_count": 1256,
     "metadata": {},
     "output_type": "execute_result"
    }
   ],
   "source": [
    "resulting_cluster[0][0]"
   ],
   "metadata": {
    "collapsed": false,
    "pycharm": {
     "name": "#%%\n"
    }
   }
  },
  {
   "cell_type": "code",
   "execution_count": 1259,
   "outputs": [
    {
     "name": "stdout",
     "output_type": "stream",
     "text": [
      "[6 4 4 ... 0 7 6]\n"
     ]
    }
   ],
   "source": [
    "assigned_cluster = resulting_cluster[0][0]\n",
    "print(assigned_cluster)"
   ],
   "metadata": {
    "collapsed": false,
    "pycharm": {
     "name": "#%%\n"
    }
   }
  },
  {
   "cell_type": "code",
   "execution_count": 1260,
   "outputs": [
    {
     "name": "stdout",
     "output_type": "stream",
     "text": [
      "[7 5 5 ... 1 8 7]\n"
     ]
    }
   ],
   "source": [
    "assigned_cluster = assigned_cluster + 1\n",
    "print(assigned_cluster)"
   ],
   "metadata": {
    "collapsed": false,
    "pycharm": {
     "name": "#%%\n"
    }
   }
  },
  {
   "cell_type": "code",
   "execution_count": 1261,
   "outputs": [],
   "source": [
    "import csv\n",
    "outfile = open('./results.csv','w')\n",
    "out = csv.writer(outfile)\n",
    "out.writerows(map(lambda x: [x], assigned_cluster))\n",
    "outfile.close()"
   ],
   "metadata": {
    "collapsed": false,
    "pycharm": {
     "name": "#%%\n"
    }
   }
  },
  {
   "cell_type": "code",
   "execution_count": null,
   "outputs": [],
   "source": [],
   "metadata": {
    "collapsed": false,
    "pycharm": {
     "name": "#%%\n"
    }
   }
  }
 ],
 "metadata": {
  "kernelspec": {
   "display_name": "Python 3",
   "language": "python",
   "name": "python3"
  },
  "language_info": {
   "codemirror_mode": {
    "name": "ipython",
    "version": 2
   },
   "file_extension": ".py",
   "mimetype": "text/x-python",
   "name": "python",
   "nbconvert_exporter": "python",
   "pygments_lexer": "ipython2",
   "version": "2.7.6"
  }
 },
 "nbformat": 4,
 "nbformat_minor": 0
}