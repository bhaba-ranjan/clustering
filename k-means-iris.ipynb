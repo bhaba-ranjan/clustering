{
 "cells": [
  {
   "cell_type": "code",
   "execution_count": 448,
   "metadata": {
    "collapsed": true,
    "pycharm": {
     "name": "#%%\n"
    }
   },
   "outputs": [],
   "source": [
    "import numpy as np\n",
    "import pandas as pd\n",
    "import matplotlib.pyplot as plt\n",
    "import csv\n",
    "from sklearn.metrics.pairwise import euclidean_distances, cosine_similarity, manhattan_distances\n",
    "from sklearn.metrics import silhouette_score\n",
    "from sklearn.decomposition import  PCA\n",
    "import seaborn as sns\n",
    "from sklearn.manifold import TSNE\n",
    "from sklearn.preprocessing import MinMaxScaler"
   ]
  },
  {
   "cell_type": "code",
   "execution_count": 449,
   "outputs": [],
   "source": [
    "table = pd.read_csv('./iris.txt', header=None, sep=\" \")"
   ],
   "metadata": {
    "collapsed": false,
    "pycharm": {
     "name": "#%%\n"
    }
   }
  },
  {
   "cell_type": "code",
   "execution_count": 450,
   "outputs": [],
   "source": [
    "data_np = table.to_numpy()"
   ],
   "metadata": {
    "collapsed": false,
    "pycharm": {
     "name": "#%%\n"
    }
   }
  },
  {
   "cell_type": "code",
   "execution_count": 457,
   "outputs": [
    {
     "name": "stderr",
     "output_type": "stream",
     "text": [
      "/Users/bhabaranjanpanigrahi/miniforge3/envs/mlp/lib/python3.8/site-packages/sklearn/manifold/_t_sne.py:810: FutureWarning: The default learning rate in TSNE will change from 200.0 to 'auto' in 1.2.\n",
      "  warnings.warn(\n",
      "/Users/bhabaranjanpanigrahi/miniforge3/envs/mlp/lib/python3.8/site-packages/sklearn/manifold/_t_sne.py:996: FutureWarning: The PCA initialization in TSNE will change to have the standard deviation of PC1 equal to 1e-4 in 1.2. This will ensure better convergence.\n",
      "  warnings.warn(\n"
     ]
    }
   ],
   "source": [
    "# scaler = MinMaxScaler(feature_range=(1,10))\n",
    "# data_np = scaler.fit_transform(data_np)\n",
    "pca = TSNE(n_components=2, init='pca' ,n_iter=5000, perplexity=15)\n",
    "data = pca.fit_transform(data_np)\n",
    "scaler = MinMaxScaler(feature_range=(1,100))\n",
    "data = scaler.fit_transform(data)"
   ],
   "metadata": {
    "collapsed": false,
    "pycharm": {
     "name": "#%%\n"
    }
   }
  },
  {
   "cell_type": "code",
   "execution_count": 458,
   "outputs": [
    {
     "data": {
      "text/plain": "             0          1\n0    17.505779  78.538681\n1    16.763523  76.408241\n2    15.497925  77.398216\n3    17.687786  73.505142\n4    16.444172  65.807861\n..         ...        ...\n145   1.000000  57.259151\n146  83.097984  72.415955\n147  80.029922  12.926781\n148  69.996536  24.348059\n149  66.630646   8.628777\n\n[150 rows x 2 columns]",
      "text/html": "<div>\n<style scoped>\n    .dataframe tbody tr th:only-of-type {\n        vertical-align: middle;\n    }\n\n    .dataframe tbody tr th {\n        vertical-align: top;\n    }\n\n    .dataframe thead th {\n        text-align: right;\n    }\n</style>\n<table border=\"1\" class=\"dataframe\">\n  <thead>\n    <tr style=\"text-align: right;\">\n      <th></th>\n      <th>0</th>\n      <th>1</th>\n    </tr>\n  </thead>\n  <tbody>\n    <tr>\n      <th>0</th>\n      <td>17.505779</td>\n      <td>78.538681</td>\n    </tr>\n    <tr>\n      <th>1</th>\n      <td>16.763523</td>\n      <td>76.408241</td>\n    </tr>\n    <tr>\n      <th>2</th>\n      <td>15.497925</td>\n      <td>77.398216</td>\n    </tr>\n    <tr>\n      <th>3</th>\n      <td>17.687786</td>\n      <td>73.505142</td>\n    </tr>\n    <tr>\n      <th>4</th>\n      <td>16.444172</td>\n      <td>65.807861</td>\n    </tr>\n    <tr>\n      <th>...</th>\n      <td>...</td>\n      <td>...</td>\n    </tr>\n    <tr>\n      <th>145</th>\n      <td>1.000000</td>\n      <td>57.259151</td>\n    </tr>\n    <tr>\n      <th>146</th>\n      <td>83.097984</td>\n      <td>72.415955</td>\n    </tr>\n    <tr>\n      <th>147</th>\n      <td>80.029922</td>\n      <td>12.926781</td>\n    </tr>\n    <tr>\n      <th>148</th>\n      <td>69.996536</td>\n      <td>24.348059</td>\n    </tr>\n    <tr>\n      <th>149</th>\n      <td>66.630646</td>\n      <td>8.628777</td>\n    </tr>\n  </tbody>\n</table>\n<p>150 rows × 2 columns</p>\n</div>"
     },
     "execution_count": 458,
     "metadata": {},
     "output_type": "execute_result"
    }
   ],
   "source": [
    "data_df = pd.DataFrame(data)\n",
    "data_df"
   ],
   "metadata": {
    "collapsed": false,
    "pycharm": {
     "name": "#%%\n"
    }
   }
  },
  {
   "cell_type": "code",
   "execution_count": 376,
   "outputs": [],
   "source": [
    "def generateKCentroid(data, k, size):\n",
    "    random_index = [ np.random.randint(0,data.shape[0],size=data.shape[1]) for i in range(k)]\n",
    "    centroids = []\n",
    "    for i in range(len(random_index)):\n",
    "        curr = random_index[i]\n",
    "        build_centroid = []\n",
    "        for j in range(len(curr)):\n",
    "            build_centroid.append(data[curr[j],j])\n",
    "        centroids.append(build_centroid)\n",
    "    return np.array(centroids)"
   ],
   "metadata": {
    "collapsed": false,
    "pycharm": {
     "name": "#%%\n"
    }
   }
  },
  {
   "cell_type": "code",
   "execution_count": 377,
   "outputs": [],
   "source": [
    "def calculateInertia(data_set, centroid, cluster_assigned):\n",
    "    sum_of_squared_distance = 0\n",
    "    cluster_assigned = np.array(cluster_assigned)\n",
    "    centroid = np.array(centroid)\n",
    "    for i in range(cluster_assigned.shape[0]):\n",
    "        distance = euclidean_distances(data_set[i].reshape(1,-1), centroid[cluster_assigned[i]].reshape(1,-1))\n",
    "        sum_of_squared_distance += (distance*distance)\n",
    "    return sum_of_squared_distance"
   ],
   "metadata": {
    "collapsed": false,
    "pycharm": {
     "name": "#%%\n"
    }
   }
  },
  {
   "cell_type": "code",
   "execution_count": 461,
   "outputs": [],
   "source": [
    "\n",
    "k = []\n",
    "def runKmeanClustering(cluster_size, train_data, centroids):\n",
    "    global k\n",
    "    iteration = 0\n",
    "    while True:\n",
    "        iteration += 1\n",
    "        restart = False\n",
    "        distance_e = euclidean_distances(train_data, centroids)\n",
    "        distance_cosine = cosine_similarity(train_data, centroids)\n",
    "        distance = distance_e\n",
    "        distance += (1/distance_cosine)\n",
    "        cluster_assigned  = np.argmin(distance, axis=1)\n",
    "        cluster_bucket = {}\n",
    "\n",
    "        for i in range(cluster_size):\n",
    "            cluster_bucket[i] = []\n",
    "\n",
    "        for index in range(cluster_assigned.shape[0]):\n",
    "            cluster_bucket[cluster_assigned[index]].append(train_data[index])\n",
    "\n",
    "        for cluster in range(cluster_size):\n",
    "            if len(cluster_bucket[cluster]) == 0:\n",
    "                print(\"cluster does not have any data points: \", cluster)\n",
    "                centroids = generateKCentroid(data, cluster_size, train_data.shape[1])\n",
    "                restart = True\n",
    "        if restart:\n",
    "            print(\"restart\")\n",
    "            continue\n",
    "        centroid_of_cluster = []\n",
    "\n",
    "        for cluster in range(cluster_size):\n",
    "            # print(len(cluster_bucket[cluster]))\n",
    "            centroid_of_cluster.append(np.mean(np.array(cluster_bucket[cluster]) ,axis=0))\n",
    "\n",
    "        if np.array_equal(centroid_of_cluster, centroids):\n",
    "            return centroids, cluster_assigned\n",
    "        else:\n",
    "            centroids = np.array(centroid_of_cluster)"
   ],
   "metadata": {
    "collapsed": false,
    "pycharm": {
     "name": "#%%\n"
    }
   }
  },
  {
   "cell_type": "code",
   "execution_count": 462,
   "outputs": [
    {
     "name": "stdout",
     "output_type": "stream",
     "text": [
      "iteration:================================================> 0\n",
      "cluster does not have any data points:  2\n",
      "restart\n",
      "cluster does not have any data points:  0\n",
      "restart\n",
      "iteration:================================================> 1\n",
      "iteration:================================================> 2\n",
      "iteration:================================================> 3\n",
      "iteration:================================================> 4\n",
      "iteration:================================================> 5\n",
      "cluster does not have any data points:  1\n",
      "restart\n",
      "iteration:================================================> 6\n",
      "iteration:================================================> 7\n",
      "iteration:================================================> 8\n",
      "iteration:================================================> 9\n",
      "iteration:================================================> 10\n",
      "iteration:================================================> 11\n",
      "iteration:================================================> 12\n",
      "iteration:================================================> 13\n",
      "iteration:================================================> 14\n",
      "iteration:================================================> 15\n",
      "iteration:================================================> 16\n",
      "iteration:================================================> 17\n",
      "iteration:================================================> 18\n",
      "iteration:================================================> 19\n",
      "cluster does not have any data points:  2\n",
      "restart\n",
      "iteration:================================================> 20\n",
      "cluster does not have any data points:  1\n",
      "restart\n",
      "iteration:================================================> 21\n",
      "iteration:================================================> 22\n",
      "iteration:================================================> 23\n",
      "iteration:================================================> 24\n",
      "iteration:================================================> 25\n",
      "iteration:================================================> 26\n",
      "iteration:================================================> 27\n",
      "iteration:================================================> 28\n",
      "iteration:================================================> 29\n",
      "iteration:================================================> 30\n",
      "iteration:================================================> 31\n",
      "iteration:================================================> 32\n",
      "iteration:================================================> 33\n",
      "iteration:================================================> 34\n",
      "iteration:================================================> 35\n",
      "iteration:================================================> 36\n",
      "iteration:================================================> 37\n",
      "cluster does not have any data points:  2\n",
      "restart\n",
      "iteration:================================================> 38\n",
      "iteration:================================================> 39\n",
      "iteration:================================================> 40\n",
      "iteration:================================================> 41\n",
      "iteration:================================================> 42\n",
      "iteration:================================================> 43\n",
      "iteration:================================================> 44\n",
      "iteration:================================================> 45\n",
      "iteration:================================================> 46\n",
      "iteration:================================================> 47\n",
      "iteration:================================================> 48\n",
      "iteration:================================================> 49\n"
     ]
    }
   ],
   "source": [
    "save_cluster =[]\n",
    "save_intertia = []\n",
    "for i in range(50):\n",
    "    print(\"iteration:================================================>\",i)\n",
    "    k_centroids, assigned_cluster = runKmeanClustering(3, data, generateKCentroid(data,3, data.shape[1]))\n",
    "    save_cluster.append(assigned_cluster)\n",
    "    save_intertia.append(calculateInertia(data,k_centroids,assigned_cluster))\n",
    "\n",
    "index = np.argmin(save_intertia)"
   ],
   "metadata": {
    "collapsed": false,
    "pycharm": {
     "name": "#%%\n"
    }
   }
  },
  {
   "cell_type": "code",
   "execution_count": 463,
   "outputs": [
    {
     "name": "stdout",
     "output_type": "stream",
     "text": [
      "0\n"
     ]
    }
   ],
   "source": [
    "print(index)\n",
    "choosen_cluster = save_cluster[index]"
   ],
   "metadata": {
    "collapsed": false,
    "pycharm": {
     "name": "#%%\n"
    }
   }
  },
  {
   "cell_type": "code",
   "execution_count": 464,
   "outputs": [],
   "source": [
    "choosen_cluster += 1"
   ],
   "metadata": {
    "collapsed": false,
    "pycharm": {
     "name": "#%%\n"
    }
   }
  },
  {
   "cell_type": "code",
   "execution_count": 465,
   "outputs": [
    {
     "data": {
      "text/plain": "array([1, 1, 1, 1, 1, 1, 2, 2, 1, 1, 1, 1, 1, 1, 1, 2, 1, 1, 1, 1, 1, 1,\n       1, 1, 2, 2, 3, 1, 1, 1, 1, 1, 1, 1, 1, 1, 2, 2, 2, 3, 1, 1, 2, 2,\n       2, 2, 2, 2, 3, 3, 1, 1, 1, 1, 1, 2, 2, 2, 2, 3, 3, 3, 1, 1, 1, 1,\n       1, 2, 2, 2, 2, 2, 2, 2, 2, 2, 2, 3, 2, 2, 3, 3, 3, 3, 3, 3, 3, 1,\n       1, 1, 1, 1, 1, 2, 2, 3, 3, 3, 3, 3, 3, 3, 1, 2, 2, 2, 2, 2, 2, 2,\n       2, 3, 3, 3, 3, 3, 3, 2, 2, 2, 2, 2, 3, 3, 3, 3, 2, 2, 3, 3, 3, 2,\n       2, 2, 2, 3, 3, 3, 3, 3, 3, 3, 3, 3, 3, 1, 2, 3, 3, 3])"
     },
     "execution_count": 465,
     "metadata": {},
     "output_type": "execute_result"
    }
   ],
   "source": [
    "choosen_cluster"
   ],
   "metadata": {
    "collapsed": false,
    "pycharm": {
     "name": "#%%\n"
    }
   }
  },
  {
   "cell_type": "code",
   "execution_count": 466,
   "outputs": [
    {
     "name": "stdout",
     "output_type": "stream",
     "text": [
      "0.7522649\n"
     ]
    }
   ],
   "source": [
    "\n",
    "z = silhouette_score(data, choosen_cluster)\n",
    "print(z)"
   ],
   "metadata": {
    "collapsed": false,
    "pycharm": {
     "name": "#%%\n"
    }
   }
  },
  {
   "cell_type": "code",
   "execution_count": 467,
   "outputs": [],
   "source": [
    "\n",
    "outfile = open('./iris_results.csv','w')\n",
    "out = csv.writer(outfile)\n",
    "out.writerows(map(lambda x: [x], choosen_cluster))\n",
    "outfile.close()"
   ],
   "metadata": {
    "collapsed": false,
    "pycharm": {
     "name": "#%%\n"
    }
   }
  },
  {
   "cell_type": "code",
   "execution_count": 394,
   "outputs": [],
   "source": [],
   "metadata": {
    "collapsed": false,
    "pycharm": {
     "name": "#%%\n"
    }
   }
  },
  {
   "cell_type": "code",
   "execution_count": null,
   "outputs": [],
   "source": [],
   "metadata": {
    "collapsed": false,
    "pycharm": {
     "name": "#%%\n"
    }
   }
  },
  {
   "cell_type": "code",
   "execution_count": 459,
   "outputs": [
    {
     "data": {
      "text/plain": "<matplotlib.collections.PathCollection at 0x2a61e2490>"
     },
     "execution_count": 459,
     "metadata": {},
     "output_type": "execute_result"
    },
    {
     "data": {
      "text/plain": "<Figure size 640x480 with 1 Axes>",
      "image/png": "[encoded data removed]"
     },
     "metadata": {},
     "output_type": "display_data"
    }
   ],
   "source": [
    "sns.set_style(\"whitegrid\")\n",
    "plt.scatter(data_df[0],data_df[1])"
   ],
   "metadata": {
    "collapsed": false,
    "pycharm": {
     "name": "#%%\n"
    }
   }
  },
  {
   "cell_type": "code",
   "execution_count": 460,
   "outputs": [
    {
     "data": {
      "text/plain": "<seaborn.axisgrid.PairGrid at 0x2a613b6a0>"
     },
     "execution_count": 460,
     "metadata": {},
     "output_type": "execute_result"
    },
    {
     "data": {
      "text/plain": "<Figure size 500x500 with 6 Axes>",
      "image/png": "[encoded data removed]"
     },
     "metadata": {},
     "output_type": "display_data"
    }
   ],
   "source": [
    "sns.pairplot(data_df)"
   ],
   "metadata": {
    "collapsed": false,
    "pycharm": {
     "name": "#%%\n"
    }
   }
  },
  {
   "cell_type": "code",
   "execution_count": null,
   "outputs": [],
   "source": [],
   "metadata": {
    "collapsed": false,
    "pycharm": {
     "name": "#%%\n"
    }
   }
  }
 ],
 "metadata": {
  "kernelspec": {
   "display_name": "Python 3",
   "language": "python",
   "name": "python3"
  },
  "language_info": {
   "codemirror_mode": {
    "name": "ipython",
    "version": 2
   },
   "file_extension": ".py",
   "mimetype": "text/x-python",
   "name": "python",
   "nbconvert_exporter": "python",
   "pygments_lexer": "ipython2",
   "version": "2.7.6"
  }
 },
 "nbformat": 4,
 "nbformat_minor": 0
}